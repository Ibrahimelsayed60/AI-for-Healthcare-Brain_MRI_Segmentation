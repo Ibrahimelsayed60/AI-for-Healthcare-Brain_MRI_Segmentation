{
 "cells": [
  {
   "cell_type": "code",
   "execution_count": 1,
   "id": "compressed-rates",
   "metadata": {
    "_cell_guid": "b1076dfc-b9ad-4769-8c92-a6c4dae69d19",
    "_uuid": "8f2839f25d086af736a60e9eeb907d3b93b6e0e5",
    "execution": {
     "iopub.execute_input": "2021-06-02T19:55:53.290376Z",
     "iopub.status.busy": "2021-06-02T19:55:53.289717Z",
     "iopub.status.idle": "2021-06-02T19:55:54.130819Z",
     "shell.execute_reply": "2021-06-02T19:55:54.129466Z",
     "shell.execute_reply.started": "2021-06-02T19:35:59.807869Z"
    },
    "papermill": {
     "duration": 0.860908,
     "end_time": "2021-06-02T19:55:54.130995",
     "exception": false,
     "start_time": "2021-06-02T19:55:53.270087",
     "status": "completed"
    },
    "tags": []
   },
   "outputs": [],
   "source": [
    "import numpy as np\n",
    "import pandas as pd\n",
    "import matplotlib.pyplot as plt\n",
    "import seaborn as sns\n",
    "import glob"
   ]
  },
  {
   "cell_type": "code",
   "execution_count": 2,
   "id": "sought-winning",
   "metadata": {
    "execution": {
     "iopub.execute_input": "2021-06-02T19:55:54.153760Z",
     "iopub.status.busy": "2021-06-02T19:55:54.153169Z",
     "iopub.status.idle": "2021-06-02T19:55:54.213805Z",
     "shell.execute_reply": "2021-06-02T19:55:54.213122Z",
     "shell.execute_reply.started": "2021-06-02T19:44:42.037178Z"
    },
    "papermill": {
     "duration": 0.073794,
     "end_time": "2021-06-02T19:55:54.213949",
     "exception": false,
     "start_time": "2021-06-02T19:55:54.140155",
     "status": "completed"
    },
    "tags": []
   },
   "outputs": [
    {
     "data": {
      "text/html": [
       "<div>\n",
       "<style scoped>\n",
       "    .dataframe tbody tr th:only-of-type {\n",
       "        vertical-align: middle;\n",
       "    }\n",
       "\n",
       "    .dataframe tbody tr th {\n",
       "        vertical-align: top;\n",
       "    }\n",
       "\n",
       "    .dataframe thead th {\n",
       "        text-align: right;\n",
       "    }\n",
       "</style>\n",
       "<table border=\"1\" class=\"dataframe\">\n",
       "  <thead>\n",
       "    <tr style=\"text-align: right;\">\n",
       "      <th></th>\n",
       "      <th>patient_id</th>\n",
       "      <th>image_path</th>\n",
       "      <th>mask_path</th>\n",
       "      <th>mask</th>\n",
       "    </tr>\n",
       "  </thead>\n",
       "  <tbody>\n",
       "    <tr>\n",
       "      <th>0</th>\n",
       "      <td>TCGA_CS_5395_19981004</td>\n",
       "      <td>TCGA_CS_5395_19981004/TCGA_CS_5395_19981004_1.tif</td>\n",
       "      <td>TCGA_CS_5395_19981004/TCGA_CS_5395_19981004_1_...</td>\n",
       "      <td>0</td>\n",
       "    </tr>\n",
       "    <tr>\n",
       "      <th>1</th>\n",
       "      <td>TCGA_CS_5395_19981004</td>\n",
       "      <td>TCGA_CS_4944_20010208/TCGA_CS_4944_20010208_1.tif</td>\n",
       "      <td>TCGA_CS_4944_20010208/TCGA_CS_4944_20010208_1_...</td>\n",
       "      <td>0</td>\n",
       "    </tr>\n",
       "    <tr>\n",
       "      <th>2</th>\n",
       "      <td>TCGA_CS_5395_19981004</td>\n",
       "      <td>TCGA_CS_4941_19960909/TCGA_CS_4941_19960909_1.tif</td>\n",
       "      <td>TCGA_CS_4941_19960909/TCGA_CS_4941_19960909_1_...</td>\n",
       "      <td>0</td>\n",
       "    </tr>\n",
       "    <tr>\n",
       "      <th>3</th>\n",
       "      <td>TCGA_CS_5395_19981004</td>\n",
       "      <td>TCGA_CS_4943_20000902/TCGA_CS_4943_20000902_1.tif</td>\n",
       "      <td>TCGA_CS_4943_20000902/TCGA_CS_4943_20000902_1_...</td>\n",
       "      <td>0</td>\n",
       "    </tr>\n",
       "    <tr>\n",
       "      <th>4</th>\n",
       "      <td>TCGA_CS_5395_19981004</td>\n",
       "      <td>TCGA_CS_5396_20010302/TCGA_CS_5396_20010302_1.tif</td>\n",
       "      <td>TCGA_CS_5396_20010302/TCGA_CS_5396_20010302_1_...</td>\n",
       "      <td>0</td>\n",
       "    </tr>\n",
       "  </tbody>\n",
       "</table>\n",
       "</div>"
      ],
      "text/plain": [
       "              patient_id                                         image_path  \\\n",
       "0  TCGA_CS_5395_19981004  TCGA_CS_5395_19981004/TCGA_CS_5395_19981004_1.tif   \n",
       "1  TCGA_CS_5395_19981004  TCGA_CS_4944_20010208/TCGA_CS_4944_20010208_1.tif   \n",
       "2  TCGA_CS_5395_19981004  TCGA_CS_4941_19960909/TCGA_CS_4941_19960909_1.tif   \n",
       "3  TCGA_CS_5395_19981004  TCGA_CS_4943_20000902/TCGA_CS_4943_20000902_1.tif   \n",
       "4  TCGA_CS_5395_19981004  TCGA_CS_5396_20010302/TCGA_CS_5396_20010302_1.tif   \n",
       "\n",
       "                                           mask_path  mask  \n",
       "0  TCGA_CS_5395_19981004/TCGA_CS_5395_19981004_1_...     0  \n",
       "1  TCGA_CS_4944_20010208/TCGA_CS_4944_20010208_1_...     0  \n",
       "2  TCGA_CS_4941_19960909/TCGA_CS_4941_19960909_1_...     0  \n",
       "3  TCGA_CS_4943_20000902/TCGA_CS_4943_20000902_1_...     0  \n",
       "4  TCGA_CS_5396_20010302/TCGA_CS_5396_20010302_1_...     0  "
      ]
     },
     "execution_count": 2,
     "metadata": {},
     "output_type": "execute_result"
    }
   ],
   "source": [
    "data_df = pd.read_csv(\"../input/brain-data-mask/data_mask.csv\")\n",
    "data_df.head()"
   ]
  },
  {
   "cell_type": "code",
   "execution_count": 3,
   "id": "visible-intervention",
   "metadata": {
    "execution": {
     "iopub.execute_input": "2021-06-02T19:55:54.235760Z",
     "iopub.status.busy": "2021-06-02T19:55:54.235139Z",
     "iopub.status.idle": "2021-06-02T19:55:54.242864Z",
     "shell.execute_reply": "2021-06-02T19:55:54.242328Z",
     "shell.execute_reply.started": "2021-06-02T19:45:17.334954Z"
    },
    "papermill": {
     "duration": 0.019469,
     "end_time": "2021-06-02T19:55:54.242992",
     "exception": false,
     "start_time": "2021-06-02T19:55:54.223523",
     "status": "completed"
    },
    "tags": []
   },
   "outputs": [
    {
     "data": {
      "text/plain": [
       "'TCGA_CS_4944_20010208/TCGA_CS_4944_20010208_1.tif'"
      ]
     },
     "execution_count": 3,
     "metadata": {},
     "output_type": "execute_result"
    }
   ],
   "source": [
    "data_df.image_path[1]"
   ]
  },
  {
   "cell_type": "code",
   "execution_count": 4,
   "id": "ready-engine",
   "metadata": {
    "execution": {
     "iopub.execute_input": "2021-06-02T19:55:54.267715Z",
     "iopub.status.busy": "2021-06-02T19:55:54.266976Z",
     "iopub.status.idle": "2021-06-02T19:55:54.269992Z",
     "shell.execute_reply": "2021-06-02T19:55:54.270448Z",
     "shell.execute_reply.started": "2021-06-02T19:46:01.065180Z"
    },
    "papermill": {
     "duration": 0.017706,
     "end_time": "2021-06-02T19:55:54.270603",
     "exception": false,
     "start_time": "2021-06-02T19:55:54.252897",
     "status": "completed"
    },
    "tags": []
   },
   "outputs": [
    {
     "data": {
      "text/plain": [
       "'TCGA_CS_4944_20010208/TCGA_CS_4944_20010208_1_mask.tif'"
      ]
     },
     "execution_count": 4,
     "metadata": {},
     "output_type": "execute_result"
    }
   ],
   "source": [
    "data_df.mask_path[1]"
   ]
  },
  {
   "cell_type": "code",
   "execution_count": 5,
   "id": "increased-damage",
   "metadata": {
    "execution": {
     "iopub.execute_input": "2021-06-02T19:55:54.310021Z",
     "iopub.status.busy": "2021-06-02T19:55:54.309344Z",
     "iopub.status.idle": "2021-06-02T19:55:54.312611Z",
     "shell.execute_reply": "2021-06-02T19:55:54.313122Z",
     "shell.execute_reply.started": "2021-06-02T19:47:24.891113Z"
    },
    "papermill": {
     "duration": 0.032738,
     "end_time": "2021-06-02T19:55:54.313286",
     "exception": false,
     "start_time": "2021-06-02T19:55:54.280548",
     "status": "completed"
    },
    "tags": []
   },
   "outputs": [
    {
     "name": "stdout",
     "output_type": "stream",
     "text": [
      "<class 'pandas.core.frame.DataFrame'>\n",
      "RangeIndex: 3929 entries, 0 to 3928\n",
      "Data columns (total 4 columns):\n",
      " #   Column      Non-Null Count  Dtype \n",
      "---  ------      --------------  ----- \n",
      " 0   patient_id  3929 non-null   object\n",
      " 1   image_path  3929 non-null   object\n",
      " 2   mask_path   3929 non-null   object\n",
      " 3   mask        3929 non-null   int64 \n",
      "dtypes: int64(1), object(3)\n",
      "memory usage: 122.9+ KB\n"
     ]
    }
   ],
   "source": [
    "data_df.info()"
   ]
  },
  {
   "cell_type": "code",
   "execution_count": 6,
   "id": "nutritional-platinum",
   "metadata": {
    "execution": {
     "iopub.execute_input": "2021-06-02T19:55:54.343091Z",
     "iopub.status.busy": "2021-06-02T19:55:54.342225Z",
     "iopub.status.idle": "2021-06-02T19:55:54.345872Z",
     "shell.execute_reply": "2021-06-02T19:55:54.346301Z",
     "shell.execute_reply.started": "2021-06-02T19:47:43.016079Z"
    },
    "papermill": {
     "duration": 0.02271,
     "end_time": "2021-06-02T19:55:54.346464",
     "exception": false,
     "start_time": "2021-06-02T19:55:54.323754",
     "status": "completed"
    },
    "tags": []
   },
   "outputs": [
    {
     "data": {
      "text/plain": [
       "patient_id    0\n",
       "image_path    0\n",
       "mask_path     0\n",
       "mask          0\n",
       "dtype: int64"
      ]
     },
     "execution_count": 6,
     "metadata": {},
     "output_type": "execute_result"
    }
   ],
   "source": [
    "data_df.isna().sum()"
   ]
  },
  {
   "cell_type": "code",
   "execution_count": 7,
   "id": "spread-belfast",
   "metadata": {
    "execution": {
     "iopub.execute_input": "2021-06-02T19:55:54.377447Z",
     "iopub.status.busy": "2021-06-02T19:55:54.376822Z",
     "iopub.status.idle": "2021-06-02T19:55:54.388332Z",
     "shell.execute_reply": "2021-06-02T19:55:54.387818Z",
     "shell.execute_reply.started": "2021-06-02T19:48:42.101799Z"
    },
    "papermill": {
     "duration": 0.031353,
     "end_time": "2021-06-02T19:55:54.388466",
     "exception": false,
     "start_time": "2021-06-02T19:55:54.357113",
     "status": "completed"
    },
    "tags": []
   },
   "outputs": [
    {
     "data": {
      "text/html": [
       "<div>\n",
       "<style scoped>\n",
       "    .dataframe tbody tr th:only-of-type {\n",
       "        vertical-align: middle;\n",
       "    }\n",
       "\n",
       "    .dataframe tbody tr th {\n",
       "        vertical-align: top;\n",
       "    }\n",
       "\n",
       "    .dataframe thead th {\n",
       "        text-align: right;\n",
       "    }\n",
       "</style>\n",
       "<table border=\"1\" class=\"dataframe\">\n",
       "  <thead>\n",
       "    <tr style=\"text-align: right;\">\n",
       "      <th></th>\n",
       "      <th>mask</th>\n",
       "    </tr>\n",
       "  </thead>\n",
       "  <tbody>\n",
       "    <tr>\n",
       "      <th>count</th>\n",
       "      <td>3929.000000</td>\n",
       "    </tr>\n",
       "    <tr>\n",
       "      <th>mean</th>\n",
       "      <td>0.349453</td>\n",
       "    </tr>\n",
       "    <tr>\n",
       "      <th>std</th>\n",
       "      <td>0.476858</td>\n",
       "    </tr>\n",
       "    <tr>\n",
       "      <th>min</th>\n",
       "      <td>0.000000</td>\n",
       "    </tr>\n",
       "    <tr>\n",
       "      <th>25%</th>\n",
       "      <td>0.000000</td>\n",
       "    </tr>\n",
       "    <tr>\n",
       "      <th>50%</th>\n",
       "      <td>0.000000</td>\n",
       "    </tr>\n",
       "    <tr>\n",
       "      <th>75%</th>\n",
       "      <td>1.000000</td>\n",
       "    </tr>\n",
       "    <tr>\n",
       "      <th>max</th>\n",
       "      <td>1.000000</td>\n",
       "    </tr>\n",
       "  </tbody>\n",
       "</table>\n",
       "</div>"
      ],
      "text/plain": [
       "              mask\n",
       "count  3929.000000\n",
       "mean      0.349453\n",
       "std       0.476858\n",
       "min       0.000000\n",
       "25%       0.000000\n",
       "50%       0.000000\n",
       "75%       1.000000\n",
       "max       1.000000"
      ]
     },
     "execution_count": 7,
     "metadata": {},
     "output_type": "execute_result"
    }
   ],
   "source": [
    "data_df.describe()"
   ]
  },
  {
   "cell_type": "code",
   "execution_count": 8,
   "id": "presidential-armstrong",
   "metadata": {
    "execution": {
     "iopub.execute_input": "2021-06-02T19:55:54.417429Z",
     "iopub.status.busy": "2021-06-02T19:55:54.416730Z",
     "iopub.status.idle": "2021-06-02T19:55:54.419596Z",
     "shell.execute_reply": "2021-06-02T19:55:54.420099Z",
     "shell.execute_reply.started": "2021-06-02T19:53:48.487317Z"
    },
    "papermill": {
     "duration": 0.020649,
     "end_time": "2021-06-02T19:55:54.420256",
     "exception": false,
     "start_time": "2021-06-02T19:55:54.399607",
     "status": "completed"
    },
    "tags": []
   },
   "outputs": [
    {
     "data": {
      "text/plain": [
       "0    2556\n",
       "1    1373\n",
       "Name: mask, dtype: int64"
      ]
     },
     "execution_count": 8,
     "metadata": {},
     "output_type": "execute_result"
    }
   ],
   "source": [
    "data_df['mask'].value_counts()"
   ]
  },
  {
   "cell_type": "code",
   "execution_count": 9,
   "id": "fossil-burke",
   "metadata": {
    "execution": {
     "iopub.execute_input": "2021-06-02T19:55:54.467090Z",
     "iopub.status.busy": "2021-06-02T19:55:54.466445Z",
     "iopub.status.idle": "2021-06-02T19:55:54.585041Z",
     "shell.execute_reply": "2021-06-02T19:55:54.584387Z",
     "shell.execute_reply.started": "2021-06-02T19:55:07.643883Z"
    },
    "papermill": {
     "duration": 0.153565,
     "end_time": "2021-06-02T19:55:54.585183",
     "exception": false,
     "start_time": "2021-06-02T19:55:54.431618",
     "status": "completed"
    },
    "tags": []
   },
   "outputs": [
    {
     "data": {
      "image/png": "[encoded data removed]",
      "text/plain": [
       "<Figure size 432x288 with 1 Axes>"
      ]
     },
     "metadata": {
      "needs_background": "light"
     },
     "output_type": "display_data"
    }
   ],
   "source": [
    "masked_df = data_df['mask'].value_counts()\n",
    "sns.barplot(x=masked_df.index,y=masked_df.values)\n",
    "plt.show()"
   ]
  },
  {
   "cell_type": "code",
   "execution_count": null,
   "id": "grateful-savannah",
   "metadata": {
    "papermill": {
     "duration": 0.011675,
     "end_time": "2021-06-02T19:55:54.609076",
     "exception": false,
     "start_time": "2021-06-02T19:55:54.597401",
     "status": "completed"
    },
    "tags": []
   },
   "outputs": [],
   "source": []
  }
 ],
 "metadata": {
  "kernelspec": {
   "display_name": "Python 3",
   "language": "python",
   "name": "python3"
  },
  "language_info": {
   "codemirror_mode": {
    "name": "ipython",
    "version": 3
   },
   "file_extension": ".py",
   "mimetype": "text/x-python",
   "name": "python",
   "nbconvert_exporter": "python",
   "pygments_lexer": "ipython3",
   "version": "3.7.10"
  },
  "papermill": {
   "default_parameters": {},
   "duration": 10.804214,
   "end_time": "2021-06-02T19:55:56.122493",
   "environment_variables": {},
   "exception": null,
   "input_path": "__notebook__.ipynb",
   "output_path": "__notebook__.ipynb",
   "parameters": {},
   "start_time": "2021-06-02T19:55:45.318279",
   "version": "2.3.3"
  }
 },
 "nbformat": 4,
 "nbformat_minor": 5
}
